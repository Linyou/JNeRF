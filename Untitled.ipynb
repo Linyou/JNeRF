{
 "cells": [
  {
   "cell_type": "code",
   "execution_count": 1,
   "id": "dc6f82e4-4153-4d85-95f3-76cc9165172d",
   "metadata": {},
   "outputs": [
    {
     "name": "stderr",
     "output_type": "stream",
     "text": [
      "\u001b[38;5;2m[i 1029 02:32:52.000291 60 log.cc:351] Load log_sync: 1\u001b[m\n",
      "\u001b[38;5;2m[i 1029 02:32:52.020884 60 compiler.py:955] Jittor(1.3.5.21) src: /home/loyot/anaconda3/envs/jittor/lib/python3.9/site-packages/jittor\u001b[m\n",
      "\u001b[38;5;2m[i 1029 02:32:52.024416 60 compiler.py:956] g++ at /usr/bin/g++(11.3.0)\u001b[m\n",
      "\u001b[38;5;2m[i 1029 02:32:52.024900 60 compiler.py:957] cache_path: /home/loyot/.cache/jittor/jt1.3.5/g++11.3.0/py3.9.13/Linux-5.15.0-5xb0/12thGenIntelRCx51/default\u001b[m\n",
      "\u001b[38;5;2m[i 1029 02:32:52.027751 60 __init__.py:411] Found nvcc(11.6.124) at /usr/local/cuda-11.6/bin/nvcc.\u001b[m\n",
      "\u001b[38;5;2m[i 1029 02:32:52.063093 60 __init__.py:411] Found gdb(12.0.90) at /usr/bin/gdb.\u001b[m\n",
      "\u001b[38;5;2m[i 1029 02:32:52.066843 60 __init__.py:411] Found addr2line(2.38) at /usr/bin/addr2line.\u001b[m\n",
      "\u001b[38;5;2m[i 1029 02:32:52.165948 60 compiler.py:1010] cuda key:cu11.6.124_sm_86\u001b[m\n",
      "\u001b[38;5;2m[i 1029 02:32:52.241949 60 __init__.py:227] Total mem: 62.55GB, using 16 procs for compiling.\u001b[m\n",
      "\u001b[38;5;2m[i 1029 02:32:52.304701 60 jit_compiler.cc:28] Load cc_path: /usr/bin/g++\u001b[m\n",
      "\u001b[38;5;2m[i 1029 02:32:52.399326 60 init.cc:62] Found cuda archs: [86,]\u001b[m\n",
      "\u001b[38;5;2m[i 1029 02:32:52.447920 60 compile_extern.py:517] mpicc not found, distribution disabled.\u001b[m\n",
      "\u001b[38;5;3m[w 1029 02:32:52.459915 60 compile_extern.py:200] CUDA related path found in LD_LIBRARY_PATH or PATH(['/usr/local/cuda-11.6/lib64', '', '/home/loyot/anaconda3/envs/jittor/bin', '/home/loyot/anaconda3/condabin', '/usr/local/cuda-11.6/bin', '/usr/local/sbin', '/usr/local/bin', '/usr/sbin', '/usr/bin', '/sbin', '/bin', '/usr/games', '/usr/local/games', '/snap/bin', '/snap/bin']), This path may cause jittor found the wrong libs, please unset LD_LIBRARY_PATH and remove cuda lib path in Path. \n",
      "Or you can let jittor install cuda for you: `python3.x -m jittor_utils.install_cuda`\u001b[m\n",
      "\u001b[38;5;2m[i 1029 02:32:52.472978 60 compile_extern.py:30] found /usr/local/cuda-11.6/include/cublas.h\u001b[m\n",
      "\u001b[38;5;2m[i 1029 02:32:52.479787 60 compile_extern.py:30] found /usr/local/cuda-11.6/lib64/libcublas.so\u001b[m\n",
      "\u001b[38;5;2m[i 1029 02:32:52.480321 60 compile_extern.py:30] found /usr/local/cuda-11.6/lib64/libcublasLt.so.11\u001b[m\n",
      "\u001b[38;5;2m[i 1029 02:32:53.073463 60 compile_extern.py:30] found /usr/local/cuda-11.6/include/cudnn.h\u001b[m\n",
      "\u001b[38;5;2m[i 1029 02:32:53.101313 60 compile_extern.py:30] found /usr/local/cuda-11.6/lib64/libcudnn.so.8\u001b[m\n",
      "\u001b[38;5;2m[i 1029 02:32:53.101939 60 compile_extern.py:30] found /usr/local/cuda-11.6/lib64/libcudnn_ops_infer.so.8\u001b[m\n",
      "\u001b[38;5;2m[i 1029 02:32:53.102621 60 compile_extern.py:30] found /usr/local/cuda-11.6/lib64/libcudnn_ops_train.so.8\u001b[m\n",
      "\u001b[38;5;2m[i 1029 02:32:53.103093 60 compile_extern.py:30] found /usr/local/cuda-11.6/lib64/libcudnn_cnn_infer.so.8\u001b[m\n",
      "\u001b[38;5;2m[i 1029 02:32:53.108636 60 compile_extern.py:30] found /usr/local/cuda-11.6/lib64/libcudnn_cnn_train.so.8\u001b[m\n",
      "\u001b[38;5;2m[i 1029 02:32:53.210377 60 compile_extern.py:30] found /usr/local/cuda-11.6/include/curand.h\u001b[m\n",
      "\u001b[38;5;2m[i 1029 02:32:53.240820 60 compile_extern.py:30] found /usr/local/cuda-11.6/lib64/libcurand.so\u001b[m\n",
      "\u001b[38;5;2m[i 1029 02:32:53.253556 60 compile_extern.py:30] found /usr/local/cuda-11.6/include/cufft.h\u001b[m\n",
      "\u001b[38;5;2m[i 1029 02:32:53.285351 60 compile_extern.py:30] found /usr/local/cuda-11.6/lib64/libcufft.so\u001b[m\n"
     ]
    }
   ],
   "source": [
    "import jittor as jt\n",
    "from jittor import Module\n",
    "from jittor import nn\n",
    "import numpy as np"
   ]
  },
  {
   "cell_type": "code",
   "execution_count": 2,
   "id": "570d77c9-5780-4cfc-babc-0954afe0695c",
   "metadata": {},
   "outputs": [],
   "source": [
    "sample = jt.randint((1, 3, 3), 0, )"
   ]
  },
  {
   "cell_type": "code",
   "execution_count": 13,
   "id": "b72fcc71-19b8-4137-b85c-f00cd1118e27",
   "metadata": {},
   "outputs": [
    {
     "data": {
      "text/plain": [
       "(0.0, 1.0)"
      ]
     },
     "execution_count": 13,
     "metadata": {},
     "output_type": "execute_result"
    }
   ],
   "source": [
    "aabb_range=(0.5,0.5)\n",
    "(aabb_range[0]-1/2,aabb_range[1]+1/2)"
   ]
  },
  {
   "cell_type": "code",
   "execution_count": 2,
   "id": "b999905c-af51-496a-b025-eab26c2dc179",
   "metadata": {},
   "outputs": [],
   "source": [
    "def distortion(sampleinfo):\n",
    "    w = sampleinfo[:, :, 0]\n",
    "    t1 = sampleinfo[:, :, 1]\n",
    "    t2 = sampleinfo[:, :, 2]\n",
    "\n",
    "    interval = t2 - t1\n",
    "    tmid = (t1 + t2) / 2\n",
    "\n",
    "    loss_uni = (1 / 3) * (interval * w.pow(2)).sum(-1)\n",
    "    ww = w.unsqueeze(-1) * w.unsqueeze(-2)\n",
    "    mm = (tmid.unsqueeze(-1) - tmid.unsqueeze(-2)).abs()\n",
    "    loss_bi = (ww * mm).sum((-1, -2))\n",
    "    return loss_uni + loss_bi"
   ]
  },
  {
   "cell_type": "code",
   "execution_count": 5,
   "id": "e41f4389-a6ee-404b-8a65-476a7d7b3edf",
   "metadata": {},
   "outputs": [],
   "source": [
    "w = sample[:, :, 0].abs()\n",
    "t1 = sample[:, :, 1].abs()\n",
    "t2 = sample[:, :, 2].abs()\n",
    "\n",
    "interval = t2 - t1\n",
    "tmid = (t1 + t2) / 2\n",
    "\n",
    "loss_uni = (1 / 3) * (interval * w.pow(2)).sum(-1)\n",
    "ww = w.unsqueeze(-1) * w.unsqueeze(-2)\n",
    "mm = (tmid.unsqueeze(-1) - tmid.unsqueeze(-2)).abs()\n",
    "loss_bi = (ww * mm).sum((-1, -2))"
   ]
  },
  {
   "cell_type": "code",
   "execution_count": 8,
   "id": "1e1966ae-ac9f-41ef-a383-0ba316b9d51e",
   "metadata": {},
   "outputs": [
    {
     "data": {
      "text/plain": [
       "jt.Var([-2.6218052], dtype=float32)"
      ]
     },
     "execution_count": 8,
     "metadata": {},
     "output_type": "execute_result"
    }
   ],
   "source": [
    "loss_uni"
   ]
  },
  {
   "cell_type": "code",
   "execution_count": 6,
   "id": "c3c6084f-70f4-4c61-b811-7ff656c3106b",
   "metadata": {},
   "outputs": [
    {
     "data": {
      "text/plain": [
       "jt.Var([[0.59943455 2.4149537  0.6038955 ]], dtype=float32)"
      ]
     },
     "execution_count": 6,
     "metadata": {},
     "output_type": "execute_result"
    }
   ],
   "source": [
    "w"
   ]
  },
  {
   "cell_type": "code",
   "execution_count": 9,
   "id": "40e6b781-d07d-42da-a593-1a78dcff574f",
   "metadata": {},
   "outputs": [
    {
     "data": {
      "text/plain": [
       "jt.Var([[[0.35932177 1.4476067  0.36199582]\n",
       "         [1.4476067  5.832001   1.4583796 ]\n",
       "         [0.36199582 1.4583796  0.36468977]]], dtype=float32)"
      ]
     },
     "execution_count": 9,
     "metadata": {},
     "output_type": "execute_result"
    }
   ],
   "source": [
    "ww"
   ]
  },
  {
   "cell_type": "code",
   "execution_count": 10,
   "id": "682df832-cf38-4796-8409-01ee400f5173",
   "metadata": {},
   "outputs": [
    {
     "data": {
      "text/plain": [
       "jt.Var([[[0.         0.29704177 0.1894759 ]\n",
       "         [0.29704177 0.         0.48651767]\n",
       "         [0.1894759  0.48651767 0.        ]]], dtype=float32)"
      ]
     },
     "execution_count": 10,
     "metadata": {},
     "output_type": "execute_result"
    }
   ],
   "source": [
    "mm"
   ]
  },
  {
   "cell_type": "code",
   "execution_count": 7,
   "id": "2d4bf8a9-fdd9-4886-99f7-482e106a0d59",
   "metadata": {},
   "outputs": [
    {
     "data": {
      "text/plain": [
       "jt.Var([2.416233], dtype=float32)"
      ]
     },
     "execution_count": 7,
     "metadata": {},
     "output_type": "execute_result"
    }
   ],
   "source": [
    "loss_bi"
   ]
  },
  {
   "cell_type": "code",
   "execution_count": 16,
   "id": "4516183c-4832-4faf-9c02-05b1c68b8147",
   "metadata": {},
   "outputs": [],
   "source": [
    "class Model(Module):\n",
    "    def __init__(self):\n",
    "        self.layer1= nn.Linear(1, 3)\n",
    "    def execute (self,x) :\n",
    "        x = self.layer1(x)\n",
    "        return x\n",
    "    \n",
    "sample = jt.randn((4096*1024, 1))"
   ]
  },
  {
   "cell_type": "code",
   "execution_count": 17,
   "id": "4c1aca06-7460-445b-96ca-13f58784fb8e",
   "metadata": {},
   "outputs": [],
   "source": [
    "learning_rate = 0.1\n",
    "\n",
    "model = Model()\n",
    "optim = nn.SGD(model.parameters(), learning_rate)\n",
    "\n",
    "\n",
    "pred_y = model(sample).reshape(4096, 1024, 3)\n",
    "loss = distortion(pred_y)\n",
    "loss_mean = loss.mean()\n",
    "optim.step(loss_mean)"
   ]
  },
  {
   "cell_type": "code",
   "execution_count": 18,
   "id": "2dad9fc8-35d3-46b9-8dd3-d12e0cc255c5",
   "metadata": {},
   "outputs": [
    {
     "name": "stderr",
     "output_type": "stream",
     "text": [
      "\n",
      "Compiling Operators(15/15) used: 2.31s eta:    0s \n"
     ]
    },
    {
     "data": {
      "text/plain": [
       "[jt.Var([[0.]\n",
       "         [0.]\n",
       "         [0.]], dtype=float32),\n",
       " jt.Var([0. 0. 0.], dtype=float32)]"
      ]
     },
     "execution_count": 18,
     "metadata": {},
     "output_type": "execute_result"
    }
   ],
   "source": [
    "jt.grad(loss, model.parameters())"
   ]
  },
  {
   "cell_type": "code",
   "execution_count": 6,
   "id": "484998bb-6782-4837-b8e3-e2c70f0027f7",
   "metadata": {},
   "outputs": [],
   "source": [
    "sample = jt.randn((10,))"
   ]
  },
  {
   "cell_type": "code",
   "execution_count": 12,
   "id": "05140a70-76ad-4744-ad22-a7d78fd77df4",
   "metadata": {},
   "outputs": [],
   "source": [
    "samples = jt.stack([sample[: None], sample[: None], sample[: None]], -1)"
   ]
  },
  {
   "cell_type": "code",
   "execution_count": 13,
   "id": "ccc6cdca-b6dd-4152-b6a5-6270f5d2e11b",
   "metadata": {},
   "outputs": [
    {
     "data": {
      "text/plain": [
       "[10,3,]"
      ]
     },
     "execution_count": 13,
     "metadata": {},
     "output_type": "execute_result"
    }
   ],
   "source": [
    "samples.shape"
   ]
  },
  {
   "cell_type": "code",
   "execution_count": 21,
   "id": "a13babee-407b-4cbd-bd56-c48fb068619d",
   "metadata": {},
   "outputs": [
    {
     "data": {
      "text/plain": [
       "jt.Var([[-0.0307  -0.0307  -0.0307 ]\n",
       "        [ 0.12335  0.12335  0.12335]\n",
       "        [-0.4834  -0.4834  -0.4834 ]\n",
       "        [-0.8696  -0.8696  -0.8696 ]\n",
       "        [ 1.98     1.98     1.98   ]\n",
       "        [ 0.732    0.732    0.732  ]\n",
       "        [-0.1351  -0.1351  -0.1351 ]\n",
       "        [-0.5684  -0.5684  -0.5684 ]\n",
       "        [ 0.2366   0.2366   0.2366 ]\n",
       "        [-0.766   -0.766   -0.766  ]], dtype=float16)"
      ]
     },
     "execution_count": 21,
     "metadata": {},
     "output_type": "execute_result"
    }
   ],
   "source": [
    "samples.float16()"
   ]
  },
  {
   "cell_type": "code",
   "execution_count": null,
   "id": "07ad5979-390b-4f3a-bd41-927e6b2a4954",
   "metadata": {},
   "outputs": [],
   "source": []
  }
 ],
 "metadata": {
  "kernelspec": {
   "display_name": "Python 3 (ipykernel)",
   "language": "python",
   "name": "python3"
  },
  "language_info": {
   "codemirror_mode": {
    "name": "ipython",
    "version": 3
   },
   "file_extension": ".py",
   "mimetype": "text/x-python",
   "name": "python",
   "nbconvert_exporter": "python",
   "pygments_lexer": "ipython3",
   "version": "3.9.13"
  }
 },
 "nbformat": 4,
 "nbformat_minor": 5
}
